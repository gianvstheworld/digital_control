{
 "cells": [
  {
   "cell_type": "markdown",
   "metadata": {},
   "source": [
    "# Transformada Z\n",
    "\n",
    "### Questão 1 \n",
    "Nessa atividade, o objetivo é usar o recurso de cálculo simbólico do Matlab para obter  transformada Z de um sinal. \n",
    "\n",
    "Para isso considere o seguinte exemplo: $f[n] = 10 − e^{−5nT}$\n",
    "\n",
    "A transformada Z de $f[n]$ pode ser obtida usando o Matlab da seguinte forma: primeiramente, defina a equação literal no Matlab, para definir a variável $n$ e outras variáveis que existirem na equação como $T$, utilize o comando syms. Em seguida utilize o comando ztrans."
   ]
  },
  {
   "cell_type": "code",
   "execution_count": 1,
   "metadata": {},
   "outputs": [],
   "source": [
    "import lcapy as lc\n",
    "from lcapy.discretetime import n\n",
    "import sympy as sp"
   ]
  },
  {
   "cell_type": "code",
   "execution_count": 2,
   "metadata": {},
   "outputs": [
    {
     "name": "stdout",
     "output_type": "stream",
     "text": [
      "Example_z:\n",
      "                        -1.0                                  -1.0\n",
      "        ⎛   5.0⋅T      ⎞      5.0⋅T          ⎛           -1.0⎞    \n",
      "- 1.0⋅z⋅⎝z⋅ℯ      - 1.0⎠    ⋅ℯ      + 1.0e+1⋅⎝1.0 - 1.0⋅z    ⎠    \n",
      "\n",
      "Fa_z:\n",
      "                           -1.0                    -1.0\n",
      "      ⎛          2.0      ⎞       ⎛           -1.0⎞    \n",
      "0.3⋅z⋅⎝-0.7⋅z + z    + 0.1⎠     + ⎝1.0 - 1.0⋅z    ⎠    \n",
      "\n",
      "Fb_z:\n",
      "               -1.0                  -2.0\n",
      "1.0⋅z⋅(z - 0.5)     + 0.2⋅z⋅(z - 0.2)    \n",
      "\n",
      "Fc_z:\n",
      "                -1.0\n",
      "  ⎛         T⋅a⎞    \n",
      "z⋅⎝z - 1.0⋅ℯ   ⎠    \n",
      "\n",
      "Fd_z:\n",
      "             -2.0\n",
      "T⋅z⋅(z - 1.0)    \n"
     ]
    }
   ],
   "source": [
    "# Define symbols for n and T\n",
    "T = lc.symbols('T')\n",
    "a = lc.symbols('a', real=True)\n",
    "\n",
    "# Define the sequence\n",
    "example = 10 - lc.exp(-5 * n * T)\n",
    "fa = 1 + n * (1/3)**n\n",
    "fb = (1/2)**n + n * (1/5)**n\n",
    "fc = lc.exp(a * n * T)\n",
    "fd = n * T\n",
    "\n",
    "# Compute the Z-transform of f[n]\n",
    "Example_z = example.ZT()\n",
    "Fa_z = fa.ZT()\n",
    "Fb_z = fb.ZT()\n",
    "Fc_z = fc.ZT()\n",
    "Fd_z = fd.ZT()\n",
    "\n",
    "# Simplify the Z-transform\n",
    "Example_z = sp.simplify(Example_z).evalf(1)\n",
    "Fa_z = sp.simplify(Fa_z).evalf(1)\n",
    "Fb_z = sp.simplify(Fb_z).evalf(1)\n",
    "Fc_z = sp.simplify(Fc_z).evalf(1)\n",
    "Fd_z = sp.simplify(Fd_z).evalf(1)\n",
    "\n",
    "# Print the Z-transform\n",
    "print(\"Example_z:\")\n",
    "sp.pprint(Example_z)\n",
    "print(\"\\nFa_z:\")\n",
    "sp.pprint(Fa_z)\n",
    "print(\"\\nFb_z:\")\n",
    "sp.pprint(Fb_z)\n",
    "print(\"\\nFc_z:\")\n",
    "sp.pprint(Fc_z)\n",
    "print(\"\\nFd_z:\")\n",
    "sp.pprint(Fd_z)"
   ]
  }
 ],
 "metadata": {
  "kernelspec": {
   "display_name": "Python 3",
   "language": "python",
   "name": "python3"
  },
  "language_info": {
   "codemirror_mode": {
    "name": "ipython",
    "version": 3
   },
   "file_extension": ".py",
   "mimetype": "text/x-python",
   "name": "python",
   "nbconvert_exporter": "python",
   "pygments_lexer": "ipython3",
   "version": "3.8.10"
  }
 },
 "nbformat": 4,
 "nbformat_minor": 2
}
